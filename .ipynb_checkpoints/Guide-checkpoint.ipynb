{
 "cells": [
  {
   "cell_type": "markdown",
   "metadata": {},
   "source": [
    "This workspace uses the same machine in the previous workspace, so any databases you previously created are preserved here as databases you can connect to using psql.\n",
    "\n",
    "### Practice using psycopg2\n",
    "\n",
    "#### Exercise 1\n",
    "\n",
    "* Create a database in your Postgres server (using `createdb`)\n",
    "* In psycopg2, create a table and insert some records using methods for SQL string composition. Make sure to establish a connection, and close it at the end of interacting with your database.\n",
    "* Inspect your table schema and data in psql. (hint: use `SELECT *`, `\\dt`, and `\\d`)\n",
    "\n",
    "#### Exercise 2\n",
    "\n",
    "* Now modify your script to use string composition, throughout. Use both `%s` and `%(named_var)s` methods.\n",
    "\n",
    "#### Exercise 3\n",
    "\n",
    "* Fetch results from your first created record to create a new record, slightly modified.\n",
    "* Fetch all of the rows from the table, and print each item line-by-line using a loop.\n",
    "\n"
   ]
  },
  {
   "cell_type": "markdown",
   "metadata": {
    "ulab": {
     "buttons": {
      "ulab-button-47533931": {
       "bashCommand": "python3 psycopg2-app.py",
       "filesToOpen": [],
       "isPreviewButton": false,
       "runInBackground": false,
       "style": "primary",
       "text": "RUN SCRIPT",
       "toggleOffText": "HIDE SOLUTION",
       "toggleOnText": "SHOW SOLUTION"
      }
     }
    }
   },
   "source": [
    "<button id=\"ulab-button-47533931\" class=\"ulab-btn--primary\"></button>"
   ]
  }
 ],
 "metadata": {
  "kernelspec": {
   "display_name": "Python 3",
   "language": "python",
   "name": "python3"
  },
  "language_info": {
   "codemirror_mode": {
    "name": "ipython",
    "version": 3
   },
   "file_extension": ".py",
   "mimetype": "text/x-python",
   "name": "python",
   "nbconvert_exporter": "python",
   "pygments_lexer": "ipython3",
   "version": "3.6.3"
  },
  "ulab_nb_type": "guided"
 },
 "nbformat": 4,
 "nbformat_minor": 2
}
